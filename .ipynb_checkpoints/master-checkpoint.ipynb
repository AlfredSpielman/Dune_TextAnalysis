{
 "cells": [
  {
   "cell_type": "code",
   "execution_count": 5,
   "metadata": {},
   "outputs": [],
   "source": [
    "from bs4 import BeautifulSoup\n",
    "import certifi\n",
    "import urllib3\n",
    "import pandas as pd\n",
    "import re"
   ]
  },
  {
   "cell_type": "code",
   "execution_count": 39,
   "metadata": {},
   "outputs": [],
   "source": [
    "http = urllib3.PoolManager(cert_reqs='CERT_REQUIRED', ca_certs=certifi.where())\n",
    "\n",
    "url = 'https://storage.googleapis.com/dune_text_analysis_html/D1.html'\n",
    "response = http.request('GET', url)\n",
    "soup = BeautifulSoup(response.data, 'html.parser')\n",
    "\n",
    "title = soup.title.string\n",
    "\n",
    "paragraph = []\n",
    "for i in soup.find_all('p'):\n",
    "    paragraph.append(i)"
   ]
  },
  {
   "cell_type": "code",
   "execution_count": 356,
   "metadata": {},
   "outputs": [],
   "source": [
    "def ExtractText(text):\n",
    "    s = text\n",
    "\n",
    "    # Check what's the text part, based on class name and assign unified one based on class_dictionary\n",
    "    try:\n",
    "        class_start = s.find(\"<p class=\") + 10\n",
    "        class_end = s.find(\">\")-1\n",
    "        class_type = s[class_start:class_end]\n",
    "        text_part[i] = class_dictionary[class_type]\n",
    "    except:\n",
    "        pass\n",
    "    \n",
    "    # Clear text\n",
    "    s = re.sub(\"  \", \"\", str(s))            # Remove spare whitespaces\n",
    "    s = re.sub(\"\\r\\n\", \"\", s)               # Remove line feeds\n",
    "    s = re.sub(\"<em>\", \"‘\", str(s))         # Change \"thoughts\" from cursive to dialogue format\n",
    "    s = re.sub(\"</em>\", \"’\", str(s))        # Change \"thoughts\" from cursive to dialogue format\n",
    "    s = re.sub(\"<p class=.*>\", \"\", s)       # Remove class openings \n",
    "    s = re.sub(\"</p>\", \"\", s)               # Remove class endings\n",
    "    s = re.sub(\"<a id=.*>\", \"\", s)          # Remove id=\"page.\" references\n",
    "    \n",
    "    return s;"
   ]
  },
  {
   "cell_type": "code",
   "execution_count": 358,
   "metadata": {},
   "outputs": [
    {
     "data": {
      "text/plain": [
       "''"
      ]
     },
     "execution_count": 358,
     "metadata": {},
     "output_type": "execute_result"
    }
   ],
   "source": [
    "text = paragraph[358]\n",
    "ExtractText(text)"
   ]
  },
  {
   "cell_type": "code",
   "execution_count": 361,
   "metadata": {},
   "outputs": [],
   "source": [
    "for i in range(0, len(paragraph)):\n",
    "    s = paragraph[i]\n",
    "    s = re.sub(\"  \", \"\", str(s))\n",
    "    s = re.sub(\"<em>\", \"‘\", str(s))\n",
    "    s = re.sub(\"</em>\", \"’\", str(s))\n",
    "    s = re.sub(\"\\r\\n\", \"\", s)\n",
    "    s = re.sub(\"</p>\", \"\", s)\n",
    "    s = re.sub(\"<a id=.*>\", \"\", s)\n",
    "    \n",
    "    class_start = s.find(\"<p class=\") + 10\n",
    "    class_end = s.find(\">\")-1\n",
    "    class_type = s[class_start:class_end]\n",
    "    text_part[i] = class_dictionary[class_type]\n",
    "    \n",
    "    s = re.sub(\"<p class=.*>\", \"\", s)\n",
    "    s = re.sub(\"<span class=.*>\", \"\", s)\n",
    "    s = re.sub(\"<.span>\", \"\", s)\n",
    "    s = re.sub(\"<sub>\", \"\", s)\n",
    "    #print(i, s, \"\\n\")"
   ]
  },
  {
   "cell_type": "code",
   "execution_count": 367,
   "metadata": {},
   "outputs": [
    {
     "data": {
      "text/plain": [
       "'text'"
      ]
     },
     "execution_count": 367,
     "metadata": {},
     "output_type": "execute_result"
    }
   ],
   "source": [
    "text_part[3]"
   ]
  },
  {
   "cell_type": "code",
   "execution_count": 339,
   "metadata": {},
   "outputs": [],
   "source": [
    "class_dictionary = {\n",
    "    \"indent\" : \"text\",\n",
    "    \"space-break1\" : \"text\",\n",
    "    \"right\" : \"opening_caption\",\n",
    "    \"space-break\" : \"opening_caption\",\n",
    "    \"blockquote\" : \"opening_text\",\n",
    "    \"noindent\" : \"opening_text\",\n",
    "    \"linegroup\" : \"text_poem\",\n",
    "    \"line\" : \"text_poem\",\n",
    "    \"line1\" : \"text_poem\",\n",
    "    \"linex\" : \"text_poem\"\n",
    "}"
   ]
  },
  {
   "cell_type": "code",
   "execution_count": 351,
   "metadata": {},
   "outputs": [
    {
     "data": {
      "text/plain": [
       "'text_poem'"
      ]
     },
     "execution_count": 351,
     "metadata": {},
     "output_type": "execute_result"
    }
   ],
   "source": [
    "class_dictionary[class_type]"
   ]
  },
  {
   "cell_type": "code",
   "execution_count": 359,
   "metadata": {},
   "outputs": [
    {
     "data": {
      "text/plain": [
       "7801"
      ]
     },
     "execution_count": 359,
     "metadata": {},
     "output_type": "execute_result"
    }
   ],
   "source": [
    "len(paragraph)"
   ]
  },
  {
   "cell_type": "code",
   "execution_count": 364,
   "metadata": {},
   "outputs": [
    {
     "data": {
      "text/plain": [
       "<p class=\"noindent\">In the week before their departure to Arrakis, when all the final scurrying about had reached a nearly unbearable frenzy,\n",
       "         an old crone came to visit the mother of the boy, Paul.\n",
       "      </p>"
      ]
     },
     "execution_count": 364,
     "metadata": {},
     "output_type": "execute_result"
    }
   ],
   "source": [
    "paragraph[2]"
   ]
  },
  {
   "cell_type": "code",
   "execution_count": 368,
   "metadata": {},
   "outputs": [],
   "source": [
    "list_for_df = []"
   ]
  },
  {
   "cell_type": "code",
   "execution_count": 372,
   "metadata": {},
   "outputs": [],
   "source": [
    "list_for_df = [i, s, text_part[i]]"
   ]
  },
  {
   "cell_type": "code",
   "execution_count": 373,
   "metadata": {},
   "outputs": [
    {
     "data": {
      "text/plain": [
       "[7800,\n",
       " '‘Do you know so little of my son?’Jessica whispered. ‘See that princess standing there, so haughty and confident. They say she has pretensions of a literary nature. Let us hope she finds solace in such things; she’ll have little else.’ A bitter laugh escaped Jessica. ‘Think on it, Chani: that princess will have the name, yet she’ll live as less than a concubine – never to know a moment of tenderness from the man to whom she’s bound. While we, Chani, we who carry the name of concubine – history will call us wives.’',\n",
       " 'text']"
      ]
     },
     "execution_count": 373,
     "metadata": {},
     "output_type": "execute_result"
    }
   ],
   "source": [
    "list_for_df"
   ]
  },
  {
   "cell_type": "code",
   "execution_count": 374,
   "metadata": {},
   "outputs": [],
   "source": [
    "df_Dune = pd.DataFrame(columns=[\n",
    "    \"text\",\n",
    "    \"class_type\",\n",
    "    \"paragraph\"\n",
    "])"
   ]
  },
  {
   "cell_type": "code",
   "execution_count": 377,
   "metadata": {},
   "outputs": [
    {
     "data": {
      "text/html": [
       "<div>\n",
       "<style scoped>\n",
       "    .dataframe tbody tr th:only-of-type {\n",
       "        vertical-align: middle;\n",
       "    }\n",
       "\n",
       "    .dataframe tbody tr th {\n",
       "        vertical-align: top;\n",
       "    }\n",
       "\n",
       "    .dataframe thead th {\n",
       "        text-align: right;\n",
       "    }\n",
       "</style>\n",
       "<table border=\"1\" class=\"dataframe\">\n",
       "  <thead>\n",
       "    <tr style=\"text-align: right;\">\n",
       "      <th></th>\n",
       "      <th>text</th>\n",
       "      <th>class_type</th>\n",
       "      <th>paragraph</th>\n",
       "    </tr>\n",
       "  </thead>\n",
       "  <tbody>\n",
       "    <tr>\n",
       "      <th>7800</th>\n",
       "      <td>7800</td>\n",
       "      <td>‘Do you know so little of my son?’Jessica whis...</td>\n",
       "      <td>text</td>\n",
       "    </tr>\n",
       "  </tbody>\n",
       "</table>\n",
       "</div>"
      ],
      "text/plain": [
       "      text                                         class_type paragraph\n",
       "7800  7800  ‘Do you know so little of my son?’Jessica whis...      text"
      ]
     },
     "execution_count": 377,
     "metadata": {},
     "output_type": "execute_result"
    }
   ],
   "source": [
    "df_Dune"
   ]
  },
  {
   "cell_type": "code",
   "execution_count": 376,
   "metadata": {},
   "outputs": [],
   "source": [
    "df_Dune.loc[i] = list_for_df"
   ]
  },
  {
   "cell_type": "code",
   "execution_count": null,
   "metadata": {},
   "outputs": [],
   "source": [
    "df_Dune.loc[i] = list_for_df"
   ]
  }
 ],
 "metadata": {
  "kernelspec": {
   "display_name": "Python 3",
   "language": "python",
   "name": "python3"
  },
  "language_info": {
   "codemirror_mode": {
    "name": "ipython",
    "version": 3
   },
   "file_extension": ".py",
   "mimetype": "text/x-python",
   "name": "python",
   "nbconvert_exporter": "python",
   "pygments_lexer": "ipython3",
   "version": "3.7.3"
  }
 },
 "nbformat": 4,
 "nbformat_minor": 4
}
