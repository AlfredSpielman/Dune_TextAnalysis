{
 "cells": [
  {
   "cell_type": "code",
   "execution_count": 1,
   "metadata": {},
   "outputs": [],
   "source": [
    "import os\n",
    "import pandas as pd\n",
    "import re"
   ]
  },
  {
   "cell_type": "code",
   "execution_count": 2,
   "metadata": {},
   "outputs": [],
   "source": [
    "source = r\"..\\html\"\n",
    "directories = [x[0] for x in os.walk(source)]"
   ]
  },
  {
   "cell_type": "code",
   "execution_count": 3,
   "metadata": {},
   "outputs": [],
   "source": [
    "files = []\n",
    "for directory in directories:\n",
    "    for file in os.listdir(directory):\n",
    "        if file.endswith(\".html\") and file[2] == \"_\" and file[5] != \"-\":\n",
    "            files.append(file)"
   ]
  },
  {
   "cell_type": "code",
   "execution_count": 4,
   "metadata": {},
   "outputs": [],
   "source": [
    "df = pd.DataFrame(data=files, columns=[\"filename\"])\n",
    "df[\"folder\"] = df[\"filename\"].str[:2]\n",
    "df[\"volume\"] = df[\"filename\"].str[1]\n",
    "df[\"item\"] = df[\"filename\"].str[3:5]\n",
    "df[\"path\"] = source + \"\\\\\" + df[\"folder\"] + \"\\\\\" + df[\"filename\"]\n",
    "df = df[[\"path\", \"filename\", \"folder\", \"volume\", \"item\"]]"
   ]
  },
  {
   "cell_type": "code",
   "execution_count": 129,
   "metadata": {},
   "outputs": [],
   "source": [
    "D1 = df[df[\"volume\"] == \"3\"][\"path\"]"
   ]
  },
  {
   "cell_type": "code",
   "execution_count": 130,
   "metadata": {},
   "outputs": [],
   "source": [
    "content = []\n",
    "for file in D1:\n",
    "    with open(file, mode=\"r\", encoding=\"UTF-8\") as f:\n",
    "        content.append(f.readlines())"
   ]
  },
  {
   "cell_type": "code",
   "execution_count": 203,
   "metadata": {},
   "outputs": [],
   "source": [
    "class_dictionary = {\n",
    "    \"indent\" : \"text_content\",\n",
    "    \"space-break1\" : \"text_content\",\n",
    "    \"right\" : \"opening_caption\",\n",
    "    \"space-break\" : \"opening_caption\",\n",
    "    \"blockquote\" : \"opening_text\",\n",
    "    \"noindent\" : \"opening_text\",\n",
    "    \"linegroup\" : \"text_poem\",\n",
    "    \"line\" : \"text_poem\",\n",
    "    \"line1\" : \"text_poem\",\n",
    "    \"linex\" : \"text_poem\",\n",
    "    \"chapter-title\" : \"chapter_title\",\n",
    "    \"normal\" : \"text_content\",\n",
    "    \"normal-1\" : \"text_content\",\n",
    "    \"normal1\" : \"text_content\",\n",
    "    \"bodytext\" : \"text_content\",\n",
    "    \"bodytext-left\" : \"text_caption\",\n",
    "    \"bodytextb\" : \"text_content\",\n",
    "    \"bodytextt\" : \"text_content\",\n",
    "    \"extract\" : \"text_poem\",\n",
    "    \"extractba\" : \"text_poem\",\n",
    "    \"bodytext-leftz\" : \"opening_text\",\n",
    "    \"bodytext-leftza\" : \"opening_text\",\n",
    "    \"hanging1\" : \"opening_text\",\n",
    "    \"hanging\" : \"opening_text\",\n",
    "    \"extract-indent1\" : \"opening_text\",\n",
    "    \"extract-indent\" : \"text_poem\",\n",
    "    \"bodytext1\" : \"text_content\",\n",
    "    \"extract-indent-a1\" : \"text_poem\",\n",
    "    \"extract-indent-b1\" : \"text_poem\",\n",
    "    \"extract2\" : \"text_content\",\n",
    "    \"extract-3\" : \"text_poem\",\n",
    "    \"\" : \"\"}"
   ]
  },
  {
   "cell_type": "code",
   "execution_count": 132,
   "metadata": {},
   "outputs": [],
   "source": [
    "def PartOfText(text):\n",
    "    # Function to regognize what part of text the given string is    \n",
    "    class_start = text.find(\"<p class=\") + len(\"<p class=\") + 1\n",
    "    class_end = text.find(\">\") - 1\n",
    "    \n",
    "    if class_start < 10:\n",
    "        text_part = \"\"\n",
    "    else:\n",
    "        class_type = text[class_start:class_end]\n",
    "        text_part = class_dictionary[class_type]\n",
    "\n",
    "    return text_part;"
   ]
  },
  {
   "cell_type": "code",
   "execution_count": 133,
   "metadata": {},
   "outputs": [],
   "source": [
    "def ExtractText(text):\n",
    "    # Function to extract just text from given string and remove all html elements\n",
    "    text = text.strip()\n",
    "    text = re.sub(\"<em>\", \"‘\", str(text))         # Change \"thoughts\" from cursive to dialogue format start\n",
    "    text = re.sub(\"</em>\", \"’\", str(text))        # Change \"thoughts\" from cursive to dialogue format end\n",
    "    text = re.sub(\"\\r\\n\", \"\", text)               # Remove line feeds\n",
    "    text = re.sub(\"\\n\", \"\", text)                 # Remove line feeds\n",
    "    text = re.sub(\"</p>\", \"\", text)               # Remove class endings end\n",
    "    text = re.sub(\"<a id=.*>\", \"\", text)          # Remove id=\"page.\" references\n",
    "    text = re.sub(\"<.*blockquote.*>\", \"\", text)\n",
    "    text = re.sub(\"<.*head>\", \"\", text)\n",
    "    text = re.sub(\"<.*body>\", \"\", text)\n",
    "    text = re.sub(\"<.*title.*>\", \"\", text)\n",
    "    text = re.sub(\"<.*link.*>\", \"\", text)\n",
    "    text = re.sub(\"<.*meta.*>\", \"\", text)\n",
    "    text = re.sub(\"<.*xml.*>\", \"\", text)\n",
    "    #text = re.sub(\"<h5 class=.*>\", \"\", text)\n",
    "    #text = re.sub(\"<.*h5>\", \"\", text)\n",
    "    #text = re.sub(\"<.*strong>\", \"\", text)\n",
    "\n",
    "    return text;"
   ]
  },
  {
   "cell_type": "code",
   "execution_count": 137,
   "metadata": {},
   "outputs": [],
   "source": [
    "v = []\n",
    "for k in range(0, len(content)):\n",
    "    for i in range(0, len(content[k])):\n",
    "        book.append(content[k][i])"
   ]
  },
  {
   "cell_type": "code",
   "execution_count": 204,
   "metadata": {},
   "outputs": [],
   "source": [
    "book_classified = []\n",
    "for i in range(1, len(book)):\n",
    "    temp = [\"\",\"\"]\n",
    "    s = ExtractText(book[i])\n",
    "    temp[0] = PartOfText(s)\n",
    "    temp[1] = re.sub(\"<p class=.*>\", \"\", s)\n",
    "    book_classified.append(temp)"
   ]
  },
  {
   "cell_type": "code",
   "execution_count": 205,
   "metadata": {},
   "outputs": [],
   "source": [
    "book_condensed = [\"\",\"\"]\n",
    "for i in range(0, len(book_classified)):\n",
    "    temp = [\"\",\"\"]\n",
    "    if book_classified[i][1] != \"\":\n",
    "        temp = [book_classified[i][0], book_classified[i][1]]\n",
    "        book_condensed.append(temp)\n",
    "del book_condensed[:2]"
   ]
  },
  {
   "cell_type": "code",
   "execution_count": 206,
   "metadata": {},
   "outputs": [],
   "source": [
    "df_book_long = pd.DataFrame(book_condensed, columns=[\"part\",\"content\"])"
   ]
  },
  {
   "cell_type": "code",
   "execution_count": 207,
   "metadata": {},
   "outputs": [],
   "source": [
    "df_book_long['content'] = df_book_long['content'] + ' '\n",
    "df_book_long['count'] = df_book_long.groupby(df_book_long.part.ne('').cumsum()).cumcount() + 1\n",
    "df_book_long['text_content'] = df_book_long.groupby(df_book_long.part.ne('').cumsum()).content.apply(lambda x : x.cumsum())\n",
    "df_book_long['take'] = df_book_long['count'] == df_book_long.groupby(df_book_long.part.ne('').cumsum())['count'].transform('max')\n",
    "df_book_long['text_part'] = df_book_long.groupby(df_book_long.part.ne('').cumsum()).part.apply(lambda x : x.cumsum())"
   ]
  },
  {
   "cell_type": "code",
   "execution_count": 208,
   "metadata": {},
   "outputs": [],
   "source": [
    "df_book = df_book_long[df_book_long['take'] == True].reset_index()\n",
    "df_book = df_book[['text_part', 'text_content']]"
   ]
  },
  {
   "cell_type": "code",
   "execution_count": 210,
   "metadata": {},
   "outputs": [
    {
     "ename": "FileNotFoundError",
     "evalue": "[Errno 2] No such file or directory: 'output\\\\D3.csv'",
     "output_type": "error",
     "traceback": [
      "\u001b[1;31m---------------------------------------------------------------------------\u001b[0m",
      "\u001b[1;31mFileNotFoundError\u001b[0m                         Traceback (most recent call last)",
      "\u001b[1;32m<ipython-input-210-07bb39cecf98>\u001b[0m in \u001b[0;36m<module>\u001b[1;34m\u001b[0m\n\u001b[1;32m----> 1\u001b[1;33m \u001b[0mdf_book\u001b[0m\u001b[1;33m.\u001b[0m\u001b[0mto_csv\u001b[0m\u001b[1;33m(\u001b[0m\u001b[1;34mr\"output\\D3.csv\"\u001b[0m\u001b[1;33m,\u001b[0m \u001b[0mindex\u001b[0m\u001b[1;33m=\u001b[0m\u001b[1;32mFalse\u001b[0m\u001b[1;33m)\u001b[0m\u001b[1;33m\u001b[0m\u001b[1;33m\u001b[0m\u001b[0m\n\u001b[0m",
      "\u001b[1;32m~\\Anaconda3\\lib\\site-packages\\pandas\\core\\generic.py\u001b[0m in \u001b[0;36mto_csv\u001b[1;34m(self, path_or_buf, sep, na_rep, float_format, columns, header, index, index_label, mode, encoding, compression, quoting, quotechar, line_terminator, chunksize, tupleize_cols, date_format, doublequote, escapechar, decimal)\u001b[0m\n\u001b[0;32m   3018\u001b[0m                                  \u001b[0mdoublequote\u001b[0m\u001b[1;33m=\u001b[0m\u001b[0mdoublequote\u001b[0m\u001b[1;33m,\u001b[0m\u001b[1;33m\u001b[0m\u001b[1;33m\u001b[0m\u001b[0m\n\u001b[0;32m   3019\u001b[0m                                  escapechar=escapechar, decimal=decimal)\n\u001b[1;32m-> 3020\u001b[1;33m         \u001b[0mformatter\u001b[0m\u001b[1;33m.\u001b[0m\u001b[0msave\u001b[0m\u001b[1;33m(\u001b[0m\u001b[1;33m)\u001b[0m\u001b[1;33m\u001b[0m\u001b[1;33m\u001b[0m\u001b[0m\n\u001b[0m\u001b[0;32m   3021\u001b[0m \u001b[1;33m\u001b[0m\u001b[0m\n\u001b[0;32m   3022\u001b[0m         \u001b[1;32mif\u001b[0m \u001b[0mpath_or_buf\u001b[0m \u001b[1;32mis\u001b[0m \u001b[1;32mNone\u001b[0m\u001b[1;33m:\u001b[0m\u001b[1;33m\u001b[0m\u001b[1;33m\u001b[0m\u001b[0m\n",
      "\u001b[1;32m~\\Anaconda3\\lib\\site-packages\\pandas\\io\\formats\\csvs.py\u001b[0m in \u001b[0;36msave\u001b[1;34m(self)\u001b[0m\n\u001b[0;32m    155\u001b[0m             f, handles = _get_handle(self.path_or_buf, self.mode,\n\u001b[0;32m    156\u001b[0m                                      \u001b[0mencoding\u001b[0m\u001b[1;33m=\u001b[0m\u001b[0mself\u001b[0m\u001b[1;33m.\u001b[0m\u001b[0mencoding\u001b[0m\u001b[1;33m,\u001b[0m\u001b[1;33m\u001b[0m\u001b[1;33m\u001b[0m\u001b[0m\n\u001b[1;32m--> 157\u001b[1;33m                                      compression=self.compression)\n\u001b[0m\u001b[0;32m    158\u001b[0m             \u001b[0mclose\u001b[0m \u001b[1;33m=\u001b[0m \u001b[1;32mTrue\u001b[0m\u001b[1;33m\u001b[0m\u001b[1;33m\u001b[0m\u001b[0m\n\u001b[0;32m    159\u001b[0m \u001b[1;33m\u001b[0m\u001b[0m\n",
      "\u001b[1;32m~\\Anaconda3\\lib\\site-packages\\pandas\\io\\common.py\u001b[0m in \u001b[0;36m_get_handle\u001b[1;34m(path_or_buf, mode, encoding, compression, memory_map, is_text)\u001b[0m\n\u001b[0;32m    422\u001b[0m         \u001b[1;32melif\u001b[0m \u001b[0mencoding\u001b[0m\u001b[1;33m:\u001b[0m\u001b[1;33m\u001b[0m\u001b[1;33m\u001b[0m\u001b[0m\n\u001b[0;32m    423\u001b[0m             \u001b[1;31m# Python 3 and encoding\u001b[0m\u001b[1;33m\u001b[0m\u001b[1;33m\u001b[0m\u001b[1;33m\u001b[0m\u001b[0m\n\u001b[1;32m--> 424\u001b[1;33m             \u001b[0mf\u001b[0m \u001b[1;33m=\u001b[0m \u001b[0mopen\u001b[0m\u001b[1;33m(\u001b[0m\u001b[0mpath_or_buf\u001b[0m\u001b[1;33m,\u001b[0m \u001b[0mmode\u001b[0m\u001b[1;33m,\u001b[0m \u001b[0mencoding\u001b[0m\u001b[1;33m=\u001b[0m\u001b[0mencoding\u001b[0m\u001b[1;33m,\u001b[0m \u001b[0mnewline\u001b[0m\u001b[1;33m=\u001b[0m\u001b[1;34m\"\"\u001b[0m\u001b[1;33m)\u001b[0m\u001b[1;33m\u001b[0m\u001b[1;33m\u001b[0m\u001b[0m\n\u001b[0m\u001b[0;32m    425\u001b[0m         \u001b[1;32melif\u001b[0m \u001b[0mis_text\u001b[0m\u001b[1;33m:\u001b[0m\u001b[1;33m\u001b[0m\u001b[1;33m\u001b[0m\u001b[0m\n\u001b[0;32m    426\u001b[0m             \u001b[1;31m# Python 3 and no explicit encoding\u001b[0m\u001b[1;33m\u001b[0m\u001b[1;33m\u001b[0m\u001b[1;33m\u001b[0m\u001b[0m\n",
      "\u001b[1;31mFileNotFoundError\u001b[0m: [Errno 2] No such file or directory: 'output\\\\D3.csv'"
     ]
    }
   ],
   "source": [
    "df_book.to_csv(\"D3.csv\", index=False)"
   ]
  },
  {
   "cell_type": "code",
   "execution_count": 146,
   "metadata": {},
   "outputs": [
    {
     "data": {
      "text/plain": [
       "25911"
      ]
     },
     "execution_count": 146,
     "metadata": {},
     "output_type": "execute_result"
    }
   ],
   "source": [
    "len(book)"
   ]
  },
  {
   "cell_type": "code",
   "execution_count": 199,
   "metadata": {},
   "outputs": [
    {
     "data": {
      "text/plain": [
       "19014"
      ]
     },
     "execution_count": 199,
     "metadata": {},
     "output_type": "execute_result"
    }
   ],
   "source": [
    "i"
   ]
  },
  {
   "cell_type": "code",
   "execution_count": 200,
   "metadata": {},
   "outputs": [
    {
     "data": {
      "text/plain": [
       "'<p class=\"bodytext\">One of Gurney Halleck’s tunes kept flowing through his mind, monotonously persistent:</p>\\n'"
      ]
     },
     "execution_count": 200,
     "metadata": {},
     "output_type": "execute_result"
    }
   ],
   "source": [
    "book[i-1]"
   ]
  },
  {
   "cell_type": "code",
   "execution_count": 201,
   "metadata": {},
   "outputs": [
    {
     "data": {
      "text/plain": [
       "'<p class=\"extract-3\"><i>Beneath the hill where the fox runs lightly, <br/>A dappled sun shines brightly <br/>Where my one love’s still</i>.</p>\\n'"
      ]
     },
     "execution_count": 201,
     "metadata": {},
     "output_type": "execute_result"
    }
   ],
   "source": [
    "book[i]"
   ]
  },
  {
   "cell_type": "code",
   "execution_count": 202,
   "metadata": {},
   "outputs": [
    {
     "data": {
      "text/plain": [
       "'<p class=\"bodytext\">Where was the entrance to that place? Leto wondered.</p>\\n'"
      ]
     },
     "execution_count": 202,
     "metadata": {},
     "output_type": "execute_result"
    }
   ],
   "source": [
    "book[i+2]"
   ]
  },
  {
   "cell_type": "code",
   "execution_count": 182,
   "metadata": {},
   "outputs": [
    {
     "data": {
      "text/plain": [
       "'<h6 class=\"bodytext-right\">– Refrain from The Habbanya Lament</h6>\\n'"
      ]
     },
     "execution_count": 182,
     "metadata": {},
     "output_type": "execute_result"
    }
   ],
   "source": [
    "book[i+1]"
   ]
  },
  {
   "cell_type": "code",
   "execution_count": 183,
   "metadata": {},
   "outputs": [
    {
     "data": {
      "text/plain": [
       "'<p class=\"normal1\">Stilgar quadrupled the sietch guard around the twins, but he knew it was useless. The lad was like his Atreides namesake, the grandfather Leto. Everyone who’d known the original Duke remarked on it. Leto had the measuring look about him, and caution, yes, but all of it had to be evaluated against that latent wildness, the susceptibility to dangerous decisions.</p>\\n'"
      ]
     },
     "execution_count": 183,
     "metadata": {},
     "output_type": "execute_result"
    }
   ],
   "source": [
    "book[i+2]"
   ]
  },
  {
   "cell_type": "code",
   "execution_count": 184,
   "metadata": {},
   "outputs": [
    {
     "data": {
      "text/plain": [
       "'<p class=\"bodytext\">Ghanima was more like her mother. There was Chani’s red hair, the set of Chani’s eyes, and a calculating way about her when she adjusted to difficulties. She often said that she only did what she had to do, but where Leto led she would follow.</p>\\n'"
      ]
     },
     "execution_count": 184,
     "metadata": {},
     "output_type": "execute_result"
    }
   ],
   "source": [
    "book[i+3]"
   ]
  },
  {
   "cell_type": "code",
   "execution_count": 149,
   "metadata": {},
   "outputs": [
    {
     "data": {
      "text/plain": [
       "'<p class=\"hanging\">CHALLENGE: ‘<i>Then why do we destroy its land?</i>’</p>\\n'"
      ]
     },
     "execution_count": 149,
     "metadata": {},
     "output_type": "execute_result"
    }
   ],
   "source": [
    "book[i+4]"
   ]
  },
  {
   "cell_type": "code",
   "execution_count": 150,
   "metadata": {},
   "outputs": [
    {
     "data": {
      "text/plain": [
       "'<p class=\"hanging\">RESPONSE: ‘<i>Because Shai-Hulud</i> [sandworm deified] <i>orders it</i>.’</p>\\n'"
      ]
     },
     "execution_count": 150,
     "metadata": {},
     "output_type": "execute_result"
    }
   ],
   "source": [
    "book[i+5]"
   ]
  },
  {
   "cell_type": "code",
   "execution_count": 151,
   "metadata": {},
   "outputs": [
    {
     "data": {
      "text/plain": [
       "'<h6 class=\"bodytext-right\">– Riddles of Arrakis<br/>by Harq al-Ada</h6>\\n'"
      ]
     },
     "execution_count": 151,
     "metadata": {},
     "output_type": "execute_result"
    }
   ],
   "source": [
    "book[i+6]"
   ]
  },
  {
   "cell_type": "code",
   "execution_count": 152,
   "metadata": {},
   "outputs": [
    {
     "data": {
      "text/plain": [
       "'<p class=\"normal1\">As was the Fremen custom, the Atreides twins arose an hour before dawn. They yawned and stretched in secret unison in their adjoining chambers, feeling the activity of the cave-warren around them. They could hear attendants in the antechamber preparing breakfast, a simple gruel with dates and nuts blended in liquid skimmed from partially fermented spice. There were glowglobes in the antechamber and a soft yellow light entered through the open archways of the bedchambers. The twins dressed swiftly in the soft light, each hearing the other nearby. As they had agreed, they donned stillsuits against the desert’s parching winds.</p>\\n'"
      ]
     },
     "execution_count": 152,
     "metadata": {},
     "output_type": "execute_result"
    }
   ],
   "source": [
    "book[i+7]"
   ]
  }
 ],
 "metadata": {
  "kernelspec": {
   "display_name": "Python 3",
   "language": "python",
   "name": "python3"
  },
  "language_info": {
   "codemirror_mode": {
    "name": "ipython",
    "version": 3
   },
   "file_extension": ".py",
   "mimetype": "text/x-python",
   "name": "python",
   "nbconvert_exporter": "python",
   "pygments_lexer": "ipython3",
   "version": "3.7.3"
  }
 },
 "nbformat": 4,
 "nbformat_minor": 4
}
