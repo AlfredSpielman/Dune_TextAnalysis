{
 "cells": [
  {
   "cell_type": "code",
   "execution_count": 1,
   "metadata": {},
   "outputs": [],
   "source": [
    "import os\n",
    "import pandas as pd\n",
    "from bs4 import BeautifulSoup"
   ]
  },
  {
   "cell_type": "markdown",
   "metadata": {},
   "source": [
    "All files stored as html. Each book has it's own folder. Each file has the same naming convention: ```D<book_volume>_<two_digit_chapter_number>.html```"
   ]
  },
  {
   "cell_type": "code",
   "execution_count": 2,
   "metadata": {},
   "outputs": [],
   "source": [
    "source = r\"..\\html\"\n",
    "directories = [x[0] for x in os.walk(source)]\n",
    "\n",
    "# List all files in given directory\n",
    "files = []\n",
    "for directory in directories:\n",
    "    for file in os.listdir(directory):\n",
    "        if file.endswith(\".html\") and file[2] == \"_\" and file[5] != \"-\":\n",
    "            files.append(file)"
   ]
  },
  {
   "cell_type": "code",
   "execution_count": 3,
   "metadata": {},
   "outputs": [],
   "source": [
    "# Create DataFrame with file paths and volume numbers\n",
    "df = pd.DataFrame(data=files, columns=[\"filename\"])\n",
    "df[\"path\"] = source + \"\\\\\" + df[\"filename\"].str[:2] + \"\\\\\" + df[\"filename\"]\n",
    "df[\"volume\"] = df[\"filename\"].str[1]\n",
    "df = df[[\"path\", \"volume\"]]"
   ]
  },
  {
   "cell_type": "code",
   "execution_count": 4,
   "metadata": {},
   "outputs": [],
   "source": [
    "DuneCronicles = []"
   ]
  },
  {
   "cell_type": "markdown",
   "metadata": {},
   "source": [
    "Each book has different class used as a chapter start and as chapter start only."
   ]
  },
  {
   "cell_type": "code",
   "execution_count": 5,
   "metadata": {},
   "outputs": [],
   "source": [
    "ChapterStarters = {\n",
    "    1:'blockquote',\n",
    "    2:'blockquote1a',\n",
    "    3:'extract',\n",
    "    4:'extract',\n",
    "    5:'epigraph',\n",
    "    6:'extracts',\n",
    "    7:'blockquote',\n",
    "    8:'blockquote'}"
   ]
  },
  {
   "cell_type": "markdown",
   "metadata": {},
   "source": [
    "Main loop to create one big list with all paragraphs from every book."
   ]
  },
  {
   "cell_type": "code",
   "execution_count": 6,
   "metadata": {},
   "outputs": [],
   "source": [
    "for Book in range(1, 9): # Main loop over each book\n",
    "    Dune = df[df[\"volume\"] == str(Book)][\"path\"]\n",
    "    Chapter = 0\n",
    "\n",
    "    for html_file in Dune: # Main loop over each chapter\n",
    "        with open(html_file, encoding=\"utf8\") as markup:\n",
    "            soup = BeautifulSoup(markup, 'html.parser')\n",
    "        \n",
    "            AllParagraphs = soup.body.find_all(['p', 'blockquote'])\n",
    "            for paragraph in range(0, len(AllParagraphs)):\n",
    "                Class = AllParagraphs[paragraph].attrs['class'][0]\n",
    "                Text = AllParagraphs[paragraph].get_text().replace('\\n        ', '').replace('\\n', '').replace('  ', ' ').replace('  ', ' ') #?!\n",
    "                if Class == ChapterStarters[Book]: Chapter += 1\n",
    "                DuneCronicles.append([Book, Chapter, Class, Text])"
   ]
  },
  {
   "cell_type": "code",
   "execution_count": 7,
   "metadata": {},
   "outputs": [],
   "source": [
    "dfBook = pd.DataFrame(data=DuneCronicles, columns=['Book','Chapter','Class','Text'])"
   ]
  },
  {
   "cell_type": "markdown",
   "metadata": {},
   "source": [
    "**Duplicates** : List to handle duplicates in Book 1 where 'blockquote' is a parent to 'noindent' which causes duplicate record for chapter opening quotes\n",
    "\n",
    "**EmptyLines** : Empty lines at the begining of each chapter in Book 7 & 8"
   ]
  },
  {
   "cell_type": "code",
   "execution_count": 8,
   "metadata": {},
   "outputs": [],
   "source": [
    "Duplicates, EmptyLines = [], []"
   ]
  },
  {
   "cell_type": "code",
   "execution_count": 9,
   "metadata": {},
   "outputs": [],
   "source": [
    "for row in range(0, len(DuneCronicles)):\n",
    "    \n",
    "    if (DuneCronicles[row][0] == 1 or DuneCronicles[row][0] == 8) and DuneCronicles[row][2] == 'blockquote':\n",
    "        Duplicates.append(True)\n",
    "    else:\n",
    "        Duplicates.append(False)\n",
    "        \n",
    "    if DuneCronicles[row][2][:5] == 'image' or DuneCronicles[row][2] == 'linespace' or DuneCronicles[row][2] == 'right-para' or DuneCronicles[row][2] == 'center-para':\n",
    "        EmptyLines.append(True)\n",
    "    else:\n",
    "        EmptyLines.append(False)"
   ]
  },
  {
   "cell_type": "code",
   "execution_count": 10,
   "metadata": {},
   "outputs": [],
   "source": [
    "Duplicates.insert(0, False)\n",
    "Duplicates = Duplicates[0:len(Duplicates)-1]\n",
    "\n",
    "dfBook['Duplicates'] = Duplicates\n",
    "dfBook['EmptyLines'] = EmptyLines\n",
    "\n",
    "dfBook = dfBook[dfBook['Duplicates'] == False] # Remove duplicates from Book 1\n",
    "dfBook = dfBook[dfBook['EmptyLines'] == False] # Remove empty lines from Book 7 & 8"
   ]
  },
  {
   "cell_type": "code",
   "execution_count": 11,
   "metadata": {},
   "outputs": [],
   "source": [
    "dfBook.reset_index(drop=True, inplace=True)"
   ]
  },
  {
   "cell_type": "code",
   "execution_count": 12,
   "metadata": {},
   "outputs": [
    {
     "data": {
      "text/html": [
       "<div>\n",
       "<style scoped>\n",
       "    .dataframe tbody tr th:only-of-type {\n",
       "        vertical-align: middle;\n",
       "    }\n",
       "\n",
       "    .dataframe tbody tr th {\n",
       "        vertical-align: top;\n",
       "    }\n",
       "\n",
       "    .dataframe thead th {\n",
       "        text-align: right;\n",
       "    }\n",
       "</style>\n",
       "<table border=\"1\" class=\"dataframe\">\n",
       "  <thead>\n",
       "    <tr style=\"text-align: right;\">\n",
       "      <th></th>\n",
       "      <th>Book</th>\n",
       "      <th>Chapter</th>\n",
       "      <th>Class</th>\n",
       "      <th>Text</th>\n",
       "      <th>Duplicates</th>\n",
       "      <th>EmptyLines</th>\n",
       "    </tr>\n",
       "  </thead>\n",
       "  <tbody>\n",
       "    <tr>\n",
       "      <th>0</th>\n",
       "      <td>1</td>\n",
       "      <td>1</td>\n",
       "      <td>blockquote</td>\n",
       "      <td>A beginning is the time for taking the most de...</td>\n",
       "      <td>False</td>\n",
       "      <td>False</td>\n",
       "    </tr>\n",
       "    <tr>\n",
       "      <th>1</th>\n",
       "      <td>1</td>\n",
       "      <td>1</td>\n",
       "      <td>right</td>\n",
       "      <td>—from ‘Manual of Muad’Dib’ by the Princess Irulan</td>\n",
       "      <td>False</td>\n",
       "      <td>False</td>\n",
       "    </tr>\n",
       "    <tr>\n",
       "      <th>2</th>\n",
       "      <td>1</td>\n",
       "      <td>1</td>\n",
       "      <td>noindent</td>\n",
       "      <td>In the week before their departure to Arrakis,...</td>\n",
       "      <td>False</td>\n",
       "      <td>False</td>\n",
       "    </tr>\n",
       "    <tr>\n",
       "      <th>3</th>\n",
       "      <td>1</td>\n",
       "      <td>1</td>\n",
       "      <td>indent</td>\n",
       "      <td>It was a warm night at Castle Caladan, and the...</td>\n",
       "      <td>False</td>\n",
       "      <td>False</td>\n",
       "    </tr>\n",
       "    <tr>\n",
       "      <th>4</th>\n",
       "      <td>1</td>\n",
       "      <td>1</td>\n",
       "      <td>indent</td>\n",
       "      <td>The old woman was let in by the side door down...</td>\n",
       "      <td>False</td>\n",
       "      <td>False</td>\n",
       "    </tr>\n",
       "  </tbody>\n",
       "</table>\n",
       "</div>"
      ],
      "text/plain": [
       "   Book  Chapter       Class  \\\n",
       "0     1        1  blockquote   \n",
       "1     1        1       right   \n",
       "2     1        1    noindent   \n",
       "3     1        1      indent   \n",
       "4     1        1      indent   \n",
       "\n",
       "                                                Text  Duplicates  EmptyLines  \n",
       "0  A beginning is the time for taking the most de...       False       False  \n",
       "1  —from ‘Manual of Muad’Dib’ by the Princess Irulan       False       False  \n",
       "2  In the week before their departure to Arrakis,...       False       False  \n",
       "3  It was a warm night at Castle Caladan, and the...       False       False  \n",
       "4  The old woman was let in by the side door down...       False       False  "
      ]
     },
     "execution_count": 12,
     "metadata": {},
     "output_type": "execute_result"
    }
   ],
   "source": [
    "dfBook.head()"
   ]
  },
  {
   "cell_type": "code",
   "execution_count": 13,
   "metadata": {},
   "outputs": [],
   "source": [
    "dfBook[['Book','Chapter','Class','Text']].to_csv('output\\DuneCronicles.csv', index=False, encoding='utf-8')"
   ]
  }
 ],
 "metadata": {
  "kernelspec": {
   "display_name": "Python 3",
   "language": "python",
   "name": "python3"
  },
  "language_info": {
   "codemirror_mode": {
    "name": "ipython",
    "version": 3
   },
   "file_extension": ".py",
   "mimetype": "text/x-python",
   "name": "python",
   "nbconvert_exporter": "python",
   "pygments_lexer": "ipython3",
   "version": "3.7.3"
  }
 },
 "nbformat": 4,
 "nbformat_minor": 4
}
