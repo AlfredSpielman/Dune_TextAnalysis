{
 "cells": [
  {
   "cell_type": "code",
   "execution_count": 1,
   "metadata": {},
   "outputs": [],
   "source": [
    "import os\n",
    "import pandas as pd\n",
    "import re"
   ]
  },
  {
   "cell_type": "code",
   "execution_count": 2,
   "metadata": {},
   "outputs": [],
   "source": [
    "source = r\"..\\html\"\n",
    "directories = [x[0] for x in os.walk(source)]"
   ]
  },
  {
   "cell_type": "code",
   "execution_count": 3,
   "metadata": {},
   "outputs": [],
   "source": [
    "files = []\n",
    "for directory in directories:\n",
    "    for file in os.listdir(directory):\n",
    "        if file.endswith(\".html\") and file[2] == \"_\" and file[5] != \"-\":\n",
    "            files.append(file)"
   ]
  },
  {
   "cell_type": "code",
   "execution_count": 4,
   "metadata": {},
   "outputs": [],
   "source": [
    "df = pd.DataFrame(data=files, columns=[\"filename\"])\n",
    "df[\"folder\"] = df[\"filename\"].str[:2]\n",
    "df[\"volume\"] = df[\"filename\"].str[1]\n",
    "df[\"item\"] = df[\"filename\"].str[3:5]\n",
    "df[\"path\"] = source + \"\\\\\" + df[\"folder\"] + \"\\\\\" + df[\"filename\"]\n",
    "df = df[[\"path\", \"filename\", \"folder\", \"volume\", \"item\"]]"
   ]
  },
  {
   "cell_type": "code",
   "execution_count": 5,
   "metadata": {},
   "outputs": [],
   "source": [
    "D1 = df[df[\"volume\"] == \"1\"][\"path\"]"
   ]
  },
  {
   "cell_type": "code",
   "execution_count": 6,
   "metadata": {},
   "outputs": [],
   "source": [
    "content = []\n",
    "for file in D1:\n",
    "    with open(file, mode=\"r\", encoding=\"UTF-8\") as f:\n",
    "        content.append(f.readlines())"
   ]
  },
  {
   "cell_type": "code",
   "execution_count": 7,
   "metadata": {},
   "outputs": [],
   "source": [
    "class_dictionary = {\n",
    "    \"indent\" : \"text_content\",\n",
    "    \"space-break1\" : \"text_content\",\n",
    "    \"right\" : \"opening_caption\",\n",
    "    \"space-break\" : \"opening_caption\",\n",
    "    \"blockquote\" : \"opening_text\",\n",
    "    \"noindent\" : \"opening_text\",\n",
    "    \"linegroup\" : \"text_poem\",\n",
    "    \"line\" : \"text_poem\",\n",
    "    \"line1\" : \"text_poem\",\n",
    "    \"linex\" : \"text_poem\",\n",
    "    \"chapter-title\" : \"chapter_title\",\n",
    "    \"\" : \"\"}"
   ]
  },
  {
   "cell_type": "code",
   "execution_count": 8,
   "metadata": {},
   "outputs": [],
   "source": [
    "def PartOfText(text):\n",
    "    # Function to regognize what part of text the given string is    \n",
    "    class_start = text.find(\"<p class=\") + len(\"<p class=\") + 1\n",
    "    class_end = text.find(\">\") - 1\n",
    "    \n",
    "    if class_start < 10:\n",
    "        text_part = \"\"\n",
    "    else:\n",
    "        class_type = text[class_start:class_end]\n",
    "        text_part = class_dictionary[class_type]\n",
    "\n",
    "    return text_part;"
   ]
  },
  {
   "cell_type": "code",
   "execution_count": 9,
   "metadata": {},
   "outputs": [],
   "source": [
    "def ExtractText(text):\n",
    "    # Function to extract just text from given string and remove all html elements\n",
    "    text = text.strip()\n",
    "    text = re.sub(\"<em>\", \"‘\", str(text))         # Change \"thoughts\" from cursive to dialogue format start\n",
    "    text = re.sub(\"</em>\", \"’\", str(text))        # Change \"thoughts\" from cursive to dialogue format end\n",
    "    text = re.sub(\"\\r\\n\", \"\", text)               # Remove line feeds\n",
    "    text = re.sub(\"\\n\", \"\", text)                 # Remove line feeds\n",
    "    text = re.sub(\"</p>\", \"\", text)               # Remove class endings end\n",
    "    text = re.sub(\"<a id=.*>\", \"\", text)          # Remove id=\"page.\" references\n",
    "    text = re.sub(\"<.*blockquote.*>\", \"\", text)\n",
    "    text = re.sub(\"<.*head>\", \"\", text)\n",
    "    text = re.sub(\"<.*body>\", \"\", text)\n",
    "    text = re.sub(\"<.*title.*>\", \"\", text)\n",
    "    text = re.sub(\"<.*link.*>\", \"\", text)\n",
    "    text = re.sub(\"<.*meta.*>\", \"\", text)\n",
    "    text = re.sub(\"<.*xml.*>\", \"\", text)\n",
    "\n",
    "    return text;"
   ]
  },
  {
   "cell_type": "code",
   "execution_count": 10,
   "metadata": {},
   "outputs": [],
   "source": [
    "book = []\n",
    "for k in range(0, len(content)):\n",
    "    for i in range(0, len(content[k])):\n",
    "        book.append(content[k][i])"
   ]
  },
  {
   "cell_type": "code",
   "execution_count": 11,
   "metadata": {},
   "outputs": [],
   "source": [
    "book_classified = []\n",
    "for i in range(1, len(book)):\n",
    "    temp = [\"\",\"\"]\n",
    "    s = ExtractText(book[i])\n",
    "    temp[0] = PartOfText(s)\n",
    "    temp[1] = re.sub(\"<p class=.*>\", \"\", s)\n",
    "    book_classified.append(temp)"
   ]
  },
  {
   "cell_type": "code",
   "execution_count": 12,
   "metadata": {},
   "outputs": [],
   "source": [
    "book_condensed = [\"\",\"\"]\n",
    "for i in range(0, len(book_classified)):\n",
    "    temp = [\"\",\"\"]\n",
    "    if book_classified[i][1] != \"\":\n",
    "        temp = [book_classified[i][0], book_classified[i][1]]\n",
    "        book_condensed.append(temp)\n",
    "del book_condensed[:2]"
   ]
  },
  {
   "cell_type": "code",
   "execution_count": 13,
   "metadata": {},
   "outputs": [],
   "source": [
    "df_book_long = pd.DataFrame(book_condensed, columns=[\"part\",\"content\"])"
   ]
  },
  {
   "cell_type": "code",
   "execution_count": 14,
   "metadata": {},
   "outputs": [],
   "source": [
    "df_book_long['content'] = df_book_long['content'] + ' '\n",
    "df_book_long['count'] = df_book_long.groupby(df_book_long.part.ne('').cumsum()).cumcount() + 1\n",
    "df_book_long['text_content'] = df_book_long.groupby(df_book_long.part.ne('').cumsum()).content.apply(lambda x : x.cumsum())\n",
    "df_book_long['take'] = df_book_long['count'] == df_book_long.groupby(df_book_long.part.ne('').cumsum())['count'].transform('max')\n",
    "df_book_long['text_part'] = df_book_long.groupby(df_book_long.part.ne('').cumsum()).part.apply(lambda x : x.cumsum())"
   ]
  },
  {
   "cell_type": "code",
   "execution_count": 15,
   "metadata": {},
   "outputs": [],
   "source": [
    "df_book = df_book_long[df_book_long['take'] == True].reset_index()\n",
    "df_book = df_book[['text_part', 'text_content']]"
   ]
  },
  {
   "cell_type": "code",
   "execution_count": null,
   "metadata": {},
   "outputs": [],
   "source": [
    "df_book.to_csv(index=False)"
   ]
  }
 ],
 "metadata": {
  "kernelspec": {
   "display_name": "Python 3",
   "language": "python",
   "name": "python3"
  },
  "language_info": {
   "codemirror_mode": {
    "name": "ipython",
    "version": 3
   },
   "file_extension": ".py",
   "mimetype": "text/x-python",
   "name": "python",
   "nbconvert_exporter": "python",
   "pygments_lexer": "ipython3",
   "version": "3.7.3"
  }
 },
 "nbformat": 4,
 "nbformat_minor": 4
}
