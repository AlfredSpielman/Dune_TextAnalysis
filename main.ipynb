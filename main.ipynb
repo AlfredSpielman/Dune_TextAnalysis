{
 "cells": [
  {
   "cell_type": "code",
   "execution_count": 1,
   "metadata": {},
   "outputs": [],
   "source": [
    "import os\n",
    "import pandas as pd\n",
    "from bs4 import BeautifulSoup"
   ]
  },
  {
   "cell_type": "markdown",
   "metadata": {},
   "source": [
    "All files stored as html. Each book has it's own folder. Each file has the same naming convention: ```D<book_volume>_<two_digit_chapter_number>.html```"
   ]
  },
  {
   "cell_type": "code",
<<<<<<< HEAD
   "execution_count": 36,
   "metadata": {},
   "outputs": [],
   "source": [
    "volume = 2"
   ]
  },
  {
   "cell_type": "code",
   "execution_count": 59,
=======
   "execution_count": 2,
>>>>>>> Messiah_Parser
   "metadata": {},
   "outputs": [],
   "source": [
    "source = r\"..\\html\"\n",
    "directories = [x[0] for x in os.walk(source)]\n",
    "\n",
    "# List all files in given directory\n",
    "files = []\n",
    "for directory in directories:\n",
    "    for file in os.listdir(directory):\n",
    "        if file.endswith(\".html\") and file[2] == \"_\" and file[5] != \"-\":\n",
    "            files.append(file)"
   ]
  },
  {
   "cell_type": "code",
<<<<<<< HEAD
   "execution_count": 38,
=======
   "execution_count": 3,
>>>>>>> Messiah_Parser
   "metadata": {},
   "outputs": [],
   "source": [
    "# Create DataFrame with file paths and volume numbers\n",
    "df = pd.DataFrame(data=files, columns=[\"filename\"])\n",
    "df[\"path\"] = source + \"\\\\\" + df[\"filename\"].str[:2] + \"\\\\\" + df[\"filename\"]\n",
    "df[\"volume\"] = df[\"filename\"].str[1]\n",
    "df = df[[\"path\", \"volume\"]]"
   ]
  },
  {
   "cell_type": "code",
<<<<<<< HEAD
   "execution_count": 57,
   "metadata": {},
   "outputs": [
    {
     "data": {
      "text/html": [
       "<div>\n",
       "<style scoped>\n",
       "    .dataframe tbody tr th:only-of-type {\n",
       "        vertical-align: middle;\n",
       "    }\n",
       "\n",
       "    .dataframe tbody tr th {\n",
       "        vertical-align: top;\n",
       "    }\n",
       "\n",
       "    .dataframe thead th {\n",
       "        text-align: right;\n",
       "    }\n",
       "</style>\n",
       "<table border=\"1\" class=\"dataframe\">\n",
       "  <thead>\n",
       "    <tr style=\"text-align: right;\">\n",
       "      <th></th>\n",
       "      <th>path</th>\n",
       "      <th>filename</th>\n",
       "      <th>folder</th>\n",
       "      <th>volume</th>\n",
       "      <th>item</th>\n",
       "    </tr>\n",
       "  </thead>\n",
       "  <tbody>\n",
       "    <tr>\n",
       "      <th>0</th>\n",
       "      <td>..\\html\\D1\\D1_01.html</td>\n",
       "      <td>D1_01.html</td>\n",
       "      <td>D1</td>\n",
       "      <td>1</td>\n",
       "      <td>01</td>\n",
       "    </tr>\n",
       "    <tr>\n",
       "      <th>1</th>\n",
       "      <td>..\\html\\D1\\D1_02.html</td>\n",
       "      <td>D1_02.html</td>\n",
       "      <td>D1</td>\n",
       "      <td>1</td>\n",
       "      <td>02</td>\n",
       "    </tr>\n",
       "    <tr>\n",
       "      <th>2</th>\n",
       "      <td>..\\html\\D1\\D1_03.html</td>\n",
       "      <td>D1_03.html</td>\n",
       "      <td>D1</td>\n",
       "      <td>1</td>\n",
       "      <td>03</td>\n",
       "    </tr>\n",
       "    <tr>\n",
       "      <th>3</th>\n",
       "      <td>..\\html\\D1\\D1_04.html</td>\n",
       "      <td>D1_04.html</td>\n",
       "      <td>D1</td>\n",
       "      <td>1</td>\n",
       "      <td>04</td>\n",
       "    </tr>\n",
       "    <tr>\n",
       "      <th>4</th>\n",
       "      <td>..\\html\\D1\\D1_05.html</td>\n",
       "      <td>D1_05.html</td>\n",
       "      <td>D1</td>\n",
       "      <td>1</td>\n",
       "      <td>05</td>\n",
       "    </tr>\n",
       "  </tbody>\n",
       "</table>\n",
       "</div>"
      ],
      "text/plain": [
       "                    path    filename folder volume item\n",
       "0  ..\\html\\D1\\D1_01.html  D1_01.html     D1      1   01\n",
       "1  ..\\html\\D1\\D1_02.html  D1_02.html     D1      1   02\n",
       "2  ..\\html\\D1\\D1_03.html  D1_03.html     D1      1   03\n",
       "3  ..\\html\\D1\\D1_04.html  D1_04.html     D1      1   04\n",
       "4  ..\\html\\D1\\D1_05.html  D1_05.html     D1      1   05"
      ]
     },
     "execution_count": 57,
     "metadata": {},
     "output_type": "execute_result"
    }
   ],
   "source": [
    "df.head()"
   ]
  },
  {
   "cell_type": "code",
   "execution_count": 73,
   "metadata": {},
   "outputs": [],
   "source": [
    "Dune = df[df[\"volume\"] == str(volume)][\"path\"]"
   ]
  },
  {
   "cell_type": "code",
   "execution_count": 74,
=======
   "execution_count": 4,
   "metadata": {},
   "outputs": [],
   "source": [
    "DuneCronicles = []"
   ]
  },
  {
   "cell_type": "markdown",
>>>>>>> Messiah_Parser
   "metadata": {},
   "source": [
<<<<<<< HEAD
    "content = []\n",
    "for file in Dune:\n",
    "    with open(file, mode=\"r\", encoding=\"UTF-8\") as f:\n",
    "        content.append(f.readlines())"
=======
    "Each book has different class used as a chapter start and as chapter start only."
>>>>>>> Messiah_Parser
   ]
  },
  {
   "cell_type": "code",
<<<<<<< HEAD
   "execution_count": 41,
=======
   "execution_count": 5,
>>>>>>> Messiah_Parser
   "metadata": {},
   "outputs": [],
   "source": [
    "ChapterStarters = {\n",
    "    1:'blockquote',\n",
    "    2:'blockquote1a',\n",
    "    3:'extract',\n",
    "    4:'extract',\n",
    "    5:'epigraph',\n",
    "    6:'extracts',\n",
    "    7:'blockquote',\n",
    "    8:'blockquote'}"
   ]
  },
  {
<<<<<<< HEAD
   "cell_type": "code",
   "execution_count": 42,
=======
   "cell_type": "markdown",
>>>>>>> Messiah_Parser
   "metadata": {},
   "source": [
    "Main loop to create one big list with all paragraphs from every book."
   ]
  },
  {
   "cell_type": "code",
<<<<<<< HEAD
   "execution_count": 143,
   "metadata": {},
   "outputs": [],
   "source": [
    "def ExtractText(text):\n",
    "    # Function to extract just text from given string and remove all html elements\n",
    "    text = text.strip()\n",
    "    text = re.sub(\"<em>\", \"‘\", str(text))         # Change \"thoughts\" from cursive to dialogue format start\n",
    "    text = re.sub(\"</em>\", \"’\", str(text))        # Change \"thoughts\" from cursive to dialogue format end\n",
    "    text = re.sub(\"\\r\\n\", \"\", text)               # Remove line feeds\n",
    "    text = re.sub(\"\\n\", \"\", text)                 # Remove line feeds\n",
    "    text = re.sub(\"</p>\", \"\", text)               # Remove class endings end\n",
    "    text = re.sub(\"<a id=.*>\", \"\", text)          # Remove id=\"page.\" references\n",
    "    text = re.sub(\"<.*blockquote.*>\", \"\", text)\n",
    "    text = re.sub(\"<.*head>\", \"\", text)\n",
    "    text = re.sub(\"<.*body>\", \"\", text)\n",
    "    text = re.sub(\"<.*title.*>\", \"\", text)\n",
    "    text = re.sub(\"<.*link.*>\", \"\", text)\n",
    "    text = re.sub(\"<.*meta.*>\", \"\", text)\n",
    "    text = re.sub(\"<.*xml.*>\", \"\", text)\n",
    "    text = re.sub(\"</html>\", \"\", text)\n",
    "    \n",
    "    return text;"
=======
   "execution_count": 6,
   "metadata": {},
   "outputs": [],
   "source": [
    "for Book in range(1, 9): # Main loop over each book\n",
    "    Dune = df[df[\"volume\"] == str(Book)][\"path\"]\n",
    "    Chapter = 0\n",
    "\n",
    "    for html_file in Dune: # Main loop over each chapter\n",
    "        with open(html_file, encoding=\"utf8\") as markup:\n",
    "            soup = BeautifulSoup(markup, 'html.parser')\n",
    "        \n",
    "            AllParagraphs = soup.body.find_all(['p', 'blockquote'])\n",
    "            for paragraph in range(0, len(AllParagraphs)):\n",
    "                Class = AllParagraphs[paragraph].attrs['class'][0]\n",
    "                Text = AllParagraphs[paragraph].get_text().replace('\\n        ', '').replace('\\n', '').replace('  ', ' ').replace('  ', ' ') #?!\n",
    "                if Class == ChapterStarters[Book]: Chapter += 1\n",
    "                DuneCronicles.append([Book, Chapter, Class, Text])"
>>>>>>> Messiah_Parser
   ]
  },
  {
   "cell_type": "markdown",
   "metadata": {},
   "source": [
    "#### opening captions for book 2\n",
    "```html\n",
    "<h5 class=\"bodytext-center-1\"><strong>—Tleilaxu Theorem (unproven)</strong></h5>\n",
    "<h5 class=\"bodytext-center-1\"><strong>—Muad’Dib: Lecture to the War College from The Stilgar Chronicle</strong></h5>\n",
    "```"
   ]
  },
  {
   "cell_type": "code",
<<<<<<< HEAD
   "execution_count": 144,
=======
   "execution_count": 7,
>>>>>>> Messiah_Parser
   "metadata": {},
   "outputs": [],
   "source": [
    "dfBook = pd.DataFrame(data=DuneCronicles, columns=['Book','Chapter','Class','Text'])"
   ]
  },
  {
<<<<<<< HEAD
   "cell_type": "code",
   "execution_count": 187,
   "metadata": {},
   "outputs": [
    {
     "data": {
      "text/plain": [
       "3237"
      ]
     },
     "execution_count": 187,
     "metadata": {},
     "output_type": "execute_result"
    }
   ],
   "source": [
    "len(book)"
=======
   "cell_type": "markdown",
   "metadata": {},
   "source": [
    "**Duplicates** : List to handle duplicates in Book 1 where 'blockquote' is a parent to 'noindent' which causes duplicate record for chapter opening quotes\n",
    "\n",
    "**EmptyLines** : Empty lines at the begining of each chapter in Book 7 & 8"
>>>>>>> Messiah_Parser
   ]
  },
  {
   "cell_type": "code",
<<<<<<< HEAD
   "execution_count": 157,
   "metadata": {},
   "outputs": [],
   "source": [
    "book_classified = []\n",
    "for i in range(1, len(book)):\n",
    "    temp = [\"\",\"\"]\n",
    "    s = ExtractText(book[i])\n",
    "    temp[0] = PartOfText(s)\n",
    "    temp[1] = re.sub(\"<.* class=.*>\", \"\", s)\n",
    "    book_classified.append(temp)"
=======
   "execution_count": 8,
   "metadata": {},
   "outputs": [],
   "source": [
    "Duplicates, EmptyLines = [], []"
>>>>>>> Messiah_Parser
   ]
  },
  {
   "cell_type": "code",
<<<<<<< HEAD
   "execution_count": null,
   "metadata": {},
   "outputs": [],
   "source": [
    "book_classified = []\n",
    "for i in range(1, len(book)):\n",
    "    temp = [\"\",\"\"]\n",
    "    s = ExtractText(book[i])\n",
    "    temp[0] = PartOfText(s)\n",
    "    temp[1] = re.sub(\"<p class=.*>\", \"\", s)\n",
    "    book_classified.append(temp)"
=======
   "execution_count": 9,
   "metadata": {},
   "outputs": [],
   "source": [
    "for row in range(0, len(DuneCronicles)):\n",
    "    \n",
    "    if (DuneCronicles[row][0] == 1 or DuneCronicles[row][0] == 8) and DuneCronicles[row][2] == 'blockquote':\n",
    "        Duplicates.append(True)\n",
    "    else:\n",
    "        Duplicates.append(False)\n",
    "        \n",
    "    if DuneCronicles[row][2][:5] == 'image' or DuneCronicles[row][2] == 'linespace' or DuneCronicles[row][2] == 'right-para' or DuneCronicles[row][2] == 'center-para':\n",
    "        EmptyLines.append(True)\n",
    "    else:\n",
    "        EmptyLines.append(False)"
>>>>>>> Messiah_Parser
   ]
  },
  {
   "cell_type": "code",
<<<<<<< HEAD
   "execution_count": 165,
   "metadata": {},
   "outputs": [],
   "source": [
    "book_condensed = [\"\",\"\"]\n",
    "for i in range(0, len(book_classified)):\n",
    "    temp = [\"\",\"\"]\n",
    "    if book_classified[i][1] != \"\":\n",
    "        temp = [book_classified[i][0], book_classified[i][1]]\n",
    "        book_condensed.append(temp)"
=======
   "execution_count": 10,
   "metadata": {},
   "outputs": [],
   "source": [
    "Duplicates.insert(0, False)\n",
    "Duplicates = Duplicates[0:len(Duplicates)-1]\n",
    "\n",
    "dfBook['Duplicates'] = Duplicates\n",
    "dfBook['EmptyLines'] = EmptyLines\n",
    "\n",
    "dfBook = dfBook[dfBook['Duplicates'] == False] # Remove duplicates from Book 1\n",
    "dfBook = dfBook[dfBook['EmptyLines'] == False] # Remove empty lines from Book 7 & 8"
>>>>>>> Messiah_Parser
   ]
  },
  {
   "cell_type": "code",
<<<<<<< HEAD
   "execution_count": 161,
   "metadata": {},
   "outputs": [
    {
     "data": {
      "text/plain": [
       "['',\n",
       " '',\n",
       " ['',\n",
       "  '‘Such a rich store of myths enfolds Paul Muad’Dib, the Mentat Emperor, and his sister, Alia, it is difficult to see the real persons behind these veils. But there were, after all, a man born Paul Atreides and a woman born Alia. Their flesh was subject to space and time. And even though their oracular powers placed them beyond the usual limits of time and space, they came from human stock. They experienced real events which left real traces upon a real universe. To understand them, it must be seen that their catastrophe was the catastrophe of all mankind. This work is dedicated, then, not to Muad’Dib or his sister, but to their heirs—to all of us’.'],\n",
       " ['text_content',\n",
       "  'Muad’Dib’s Imperial reign generated more historians than any other era in human history. Most of them argued a particular viewpoint, jealous and sectarian, but it says something about the peculiar impact of this man that he aroused such passions on so many diverse worlds.'],\n",
       " ['text_content',\n",
       "  'Of course, he contained the ingredients of history, ideal and idealized. This man, born Paul Atreides in an ancient Great Family, received the deep ‘prana-bindu’ training from the Lady Jessica, his Bene Gesserit mother, and had through this a superb control over muscles and nerves. But more than that, he was a ‘mentat’, an intellect whose capacities surpassed those of the religiously proscribed mechanical computers used by the ancients.']]"
      ]
     },
     "execution_count": 161,
     "metadata": {},
     "output_type": "execute_result"
    }
   ],
   "source": [
    "book_condensed[:5]"
   ]
  },
  {
   "cell_type": "code",
   "execution_count": 166,
   "metadata": {},
   "outputs": [],
   "source": [
    "del book_condensed[:3]"
   ]
  },
  {
   "cell_type": "code",
   "execution_count": 167,
   "metadata": {},
   "outputs": [
    {
     "data": {
      "text/plain": [
       "[['text_content',\n",
       "  'Muad’Dib’s Imperial reign generated more historians than any other era in human history. Most of them argued a particular viewpoint, jealous and sectarian, but it says something about the peculiar impact of this man that he aroused such passions on so many diverse worlds.'],\n",
       " ['text_content',\n",
       "  'Of course, he contained the ingredients of history, ideal and idealized. This man, born Paul Atreides in an ancient Great Family, received the deep ‘prana-bindu’ training from the Lady Jessica, his Bene Gesserit mother, and had through this a superb control over muscles and nerves. But more than that, he was a ‘mentat’, an intellect whose capacities surpassed those of the religiously proscribed mechanical computers used by the ancients.'],\n",
       " ['text_content',\n",
       "  'Above all else, Muad’Dib was the ‘Kwisatz Haderach’ which the Sisterhood’s breeding program had sought across thousands of generations.'],\n",
       " ['text_content',\n",
       "  'The Kwisatz Haderach, then, the one who could be “many places at once,” this prophet, this man through whom the Bene Gesserit hoped to control human destiny—this man became Emperor Muad’Dib and executed a marriage of convenience with a daughter of the Padishah Emperor he had defeated.'],\n",
       " ['text_content',\n",
       "  'Think on the paradox, the failure implicit in this moment, for you surely have read other histories and know the surface facts. Muad’Dib’s wild Fremen did, indeed, overwhelm the Padishah Shaddam IV. They toppled the Sardaukar legions, the allied forces of the Great Houses, the Harkonnen armies and the mercenaries bought with money voted in the Landsraad. He brought the Spacing Guild to its knees and placed his own sister, Alia, on the religious throne the Bene Gesserit had thought their own.']]"
      ]
     },
     "execution_count": 167,
     "metadata": {},
     "output_type": "execute_result"
    }
   ],
   "source": [
    "book_condensed[:5]"
   ]
  },
  {
   "cell_type": "code",
   "execution_count": 168,
   "metadata": {},
   "outputs": [],
   "source": [
    "df_book_long = pd.DataFrame(book_condensed, columns=[\"part\",\"content\"])\n",
    "\n",
    "df_book_long['content'] = df_book_long['content'] + ' '\n",
    "df_book_long['chapter_count'] = df_book_long.groupby(df_book_long.part.eq('opening_caption').cumsum()).cumcount() + 1\n",
    "df_book_long['line_count'] = df_book_long.groupby(df_book_long.part.ne('').cumsum()).cumcount() + 1\n",
    "df_book_long['content'] = df_book_long.groupby(df_book_long.part.ne('').cumsum()).content.apply(lambda x : x.cumsum())\n",
    "df_book_long['take'] = df_book_long['line_count'] == df_book_long.groupby(df_book_long.part.ne('').cumsum())['line_count'].transform('max')\n",
    "df_book_long['text_part'] = df_book_long.groupby(df_book_long.part.ne('').cumsum()).part.apply(lambda x : x.cumsum())"
=======
   "execution_count": 11,
   "metadata": {},
   "outputs": [],
   "source": [
    "dfBook.reset_index(drop=True, inplace=True)"
>>>>>>> Messiah_Parser
   ]
  },
  {
   "cell_type": "code",
<<<<<<< HEAD
   "execution_count": 169,
=======
   "execution_count": 12,
>>>>>>> Messiah_Parser
   "metadata": {},
   "outputs": [
    {
     "data": {
      "text/html": [
       "<div>\n",
       "<style scoped>\n",
       "    .dataframe tbody tr th:only-of-type {\n",
       "        vertical-align: middle;\n",
       "    }\n",
       "\n",
       "    .dataframe tbody tr th {\n",
       "        vertical-align: top;\n",
       "    }\n",
       "\n",
       "    .dataframe thead th {\n",
       "        text-align: right;\n",
       "    }\n",
       "</style>\n",
       "<table border=\"1\" class=\"dataframe\">\n",
       "  <thead>\n",
       "    <tr style=\"text-align: right;\">\n",
       "      <th></th>\n",
<<<<<<< HEAD
       "      <th>part</th>\n",
       "      <th>content</th>\n",
       "      <th>chapter_count</th>\n",
       "      <th>line_count</th>\n",
       "      <th>take</th>\n",
       "      <th>text_part</th>\n",
=======
       "      <th>Book</th>\n",
       "      <th>Chapter</th>\n",
       "      <th>Class</th>\n",
       "      <th>Text</th>\n",
       "      <th>Duplicates</th>\n",
       "      <th>EmptyLines</th>\n",
>>>>>>> Messiah_Parser
       "    </tr>\n",
       "  </thead>\n",
       "  <tbody>\n",
       "    <tr>\n",
       "      <th>0</th>\n",
<<<<<<< HEAD
       "      <td>text_content</td>\n",
       "      <td>Muad’Dib’s Imperial reign generated more histo...</td>\n",
       "      <td>1</td>\n",
       "      <td>1</td>\n",
       "      <td>True</td>\n",
       "      <td>text_content</td>\n",
       "    </tr>\n",
       "    <tr>\n",
       "      <th>1</th>\n",
       "      <td>text_content</td>\n",
       "      <td>Of course, he contained the ingredients of his...</td>\n",
       "      <td>2</td>\n",
       "      <td>1</td>\n",
       "      <td>True</td>\n",
       "      <td>text_content</td>\n",
       "    </tr>\n",
       "    <tr>\n",
       "      <th>2</th>\n",
       "      <td>text_content</td>\n",
       "      <td>Above all else, Muad’Dib was the ‘Kwisatz Hade...</td>\n",
       "      <td>3</td>\n",
       "      <td>1</td>\n",
       "      <td>True</td>\n",
       "      <td>text_content</td>\n",
       "    </tr>\n",
       "    <tr>\n",
       "      <th>3</th>\n",
       "      <td>text_content</td>\n",
       "      <td>The Kwisatz Haderach, then, the one who could ...</td>\n",
       "      <td>4</td>\n",
       "      <td>1</td>\n",
       "      <td>True</td>\n",
       "      <td>text_content</td>\n",
       "    </tr>\n",
       "    <tr>\n",
       "      <th>4</th>\n",
       "      <td>text_content</td>\n",
       "      <td>Think on the paradox, the failure implicit in ...</td>\n",
       "      <td>5</td>\n",
       "      <td>1</td>\n",
       "      <td>True</td>\n",
       "      <td>text_content</td>\n",
       "    </tr>\n",
       "    <tr>\n",
       "      <th>5</th>\n",
       "      <td>text_content</td>\n",
       "      <td>He did all these things and more.</td>\n",
       "      <td>6</td>\n",
       "      <td>1</td>\n",
       "      <td>True</td>\n",
       "      <td>text_content</td>\n",
       "    </tr>\n",
       "    <tr>\n",
       "      <th>6</th>\n",
       "      <td>text_content</td>\n",
       "      <td>Muad’Dib’s Qizarate missionaries carried their...</td>\n",
       "      <td>7</td>\n",
       "      <td>1</td>\n",
       "      <td>True</td>\n",
       "      <td>text_content</td>\n",
       "    </tr>\n",
       "    <tr>\n",
       "      <th>7</th>\n",
       "      <td>text_content</td>\n",
       "      <td>He did this because capture of Arrakis, that p...</td>\n",
       "      <td>8</td>\n",
       "      <td>1</td>\n",
       "      <td>True</td>\n",
       "      <td>text_content</td>\n",
       "    </tr>\n",
       "    <tr>\n",
       "      <th>8</th>\n",
       "      <td>text_content</td>\n",
       "      <td>Here was another ingredient of ideal history: ...</td>\n",
       "      <td>9</td>\n",
       "      <td>1</td>\n",
       "      <td>True</td>\n",
       "      <td>text_content</td>\n",
       "    </tr>\n",
       "    <tr>\n",
       "      <th>9</th>\n",
       "      <td>text_content</td>\n",
       "      <td>Without melange, Paul Muad’Dib could not proph...</td>\n",
       "      <td>10</td>\n",
       "      <td>1</td>\n",
       "      <td>True</td>\n",
       "      <td>text_content</td>\n",
=======
       "      <td>1</td>\n",
       "      <td>1</td>\n",
       "      <td>blockquote</td>\n",
       "      <td>A beginning is the time for taking the most de...</td>\n",
       "      <td>False</td>\n",
       "      <td>False</td>\n",
       "    </tr>\n",
       "    <tr>\n",
       "      <th>1</th>\n",
       "      <td>1</td>\n",
       "      <td>1</td>\n",
       "      <td>right</td>\n",
       "      <td>—from ‘Manual of Muad’Dib’ by the Princess Irulan</td>\n",
       "      <td>False</td>\n",
       "      <td>False</td>\n",
       "    </tr>\n",
       "    <tr>\n",
       "      <th>2</th>\n",
       "      <td>1</td>\n",
       "      <td>1</td>\n",
       "      <td>noindent</td>\n",
       "      <td>In the week before their departure to Arrakis,...</td>\n",
       "      <td>False</td>\n",
       "      <td>False</td>\n",
       "    </tr>\n",
       "    <tr>\n",
       "      <th>3</th>\n",
       "      <td>1</td>\n",
       "      <td>1</td>\n",
       "      <td>indent</td>\n",
       "      <td>It was a warm night at Castle Caladan, and the...</td>\n",
       "      <td>False</td>\n",
       "      <td>False</td>\n",
       "    </tr>\n",
       "    <tr>\n",
       "      <th>4</th>\n",
       "      <td>1</td>\n",
       "      <td>1</td>\n",
       "      <td>indent</td>\n",
       "      <td>The old woman was let in by the side door down...</td>\n",
       "      <td>False</td>\n",
       "      <td>False</td>\n",
>>>>>>> Messiah_Parser
       "    </tr>\n",
       "  </tbody>\n",
       "</table>\n",
       "</div>"
      ],
      "text/plain": [
<<<<<<< HEAD
       "           part                                            content  \\\n",
       "0  text_content  Muad’Dib’s Imperial reign generated more histo...   \n",
       "1  text_content  Of course, he contained the ingredients of his...   \n",
       "2  text_content  Above all else, Muad’Dib was the ‘Kwisatz Hade...   \n",
       "3  text_content  The Kwisatz Haderach, then, the one who could ...   \n",
       "4  text_content  Think on the paradox, the failure implicit in ...   \n",
       "5  text_content                 He did all these things and more.    \n",
       "6  text_content  Muad’Dib’s Qizarate missionaries carried their...   \n",
       "7  text_content  He did this because capture of Arrakis, that p...   \n",
       "8  text_content  Here was another ingredient of ideal history: ...   \n",
       "9  text_content  Without melange, Paul Muad’Dib could not proph...   \n",
       "\n",
       "   chapter_count  line_count  take     text_part  \n",
       "0              1           1  True  text_content  \n",
       "1              2           1  True  text_content  \n",
       "2              3           1  True  text_content  \n",
       "3              4           1  True  text_content  \n",
       "4              5           1  True  text_content  \n",
       "5              6           1  True  text_content  \n",
       "6              7           1  True  text_content  \n",
       "7              8           1  True  text_content  \n",
       "8              9           1  True  text_content  \n",
       "9             10           1  True  text_content  "
      ]
     },
     "execution_count": 169,
=======
       "   Book  Chapter       Class  \\\n",
       "0     1        1  blockquote   \n",
       "1     1        1       right   \n",
       "2     1        1    noindent   \n",
       "3     1        1      indent   \n",
       "4     1        1      indent   \n",
       "\n",
       "                                                Text  Duplicates  EmptyLines  \n",
       "0  A beginning is the time for taking the most de...       False       False  \n",
       "1  —from ‘Manual of Muad’Dib’ by the Princess Irulan       False       False  \n",
       "2  In the week before their departure to Arrakis,...       False       False  \n",
       "3  It was a warm night at Castle Caladan, and the...       False       False  \n",
       "4  The old woman was let in by the side door down...       False       False  "
      ]
     },
     "execution_count": 12,
>>>>>>> Messiah_Parser
     "metadata": {},
     "output_type": "execute_result"
    }
   ],
   "source": [
<<<<<<< HEAD
    "df_book_long.head(10)"
   ]
  },
  {
   "cell_type": "code",
   "execution_count": 170,
   "metadata": {},
   "outputs": [],
   "source": [
    "df_book = df_book_long[df_book_long['take'] == True].reset_index()\n",
    "df_book = df_book[['text_part', 'content', 'chapter_count']]\n",
    "\n",
    "df_book['chapter_start'] = df_book['chapter_count'].apply(lambda x : x == 1)\n",
    "df_book['chapter_num'] = df_book['chapter_start']\n",
    "df_book['chapter_num'].replace({True:1, False:0}, inplace=True)"
   ]
  },
  {
   "cell_type": "code",
   "execution_count": 89,
   "metadata": {},
   "outputs": [],
   "source": [
    "# DUNE 1\n",
    "df_book['chapter'] = df_book.chapter_num.cumsum() - 1\n",
    "df_book['chapter'] = df_book['chapter'].shift(-1).ffill()\n",
    "\n",
    "df_book = df_book[['chapter', 'text_part', 'content']][1:]"
   ]
  },
  {
   "cell_type": "code",
   "execution_count": 171,
   "metadata": {},
   "outputs": [],
   "source": [
    "# DUNE 2\n",
    "df_book['chapter'] = df_book.chapter_num.cumsum() + 1\n",
    "df_book['chapter'] = df_book['chapter'].shift(-1).ffill()\n",
    "\n",
    "df_book = df_book[['chapter', 'text_part', 'content']]"
   ]
  },
  {
   "cell_type": "code",
   "execution_count": 172,
   "metadata": {},
   "outputs": [
    {
     "data": {
      "text/plain": [
       "chapter                                                      2\n",
       "text_part                                         text_content\n",
       "content      Despite the murderous nature of the plot he ho...\n",
       "Name: 16, dtype: object"
      ]
     },
     "execution_count": 172,
     "metadata": {},
     "output_type": "execute_result"
    }
   ],
   "source": [
    "df_book.iloc[16]"
=======
    "dfBook.head()"
>>>>>>> Messiah_Parser
   ]
  },
  {
   "cell_type": "code",
<<<<<<< HEAD
   "execution_count": 179,
   "metadata": {},
   "outputs": [
    {
     "name": "stdout",
     "output_type": "stream",
     "text": [
      "Despite the murderous nature of the plot he hoped to devise, the thoughts of Scytale, the Tleilaxu Face Dancer, returned again and again to rueful compassion. \n"
     ]
    }
   ],
   "source": [
    "print(df_book['content'].iloc[16])"
   ]
  },
  {
   "cell_type": "code",
   "execution_count": 180,
   "metadata": {},
   "outputs": [],
   "source": [
    "df_book['opening_caption'] = df_book['content'].str[0] == \"—\"\n",
    "\n",
    "df_book['text_content'] = df_book['opening_caption'].shift(-2).ffill() != False\n",
    "df_book['opening_text'] = df_book['opening_caption'].shift(-1).ffill() != False\n",
    "df_book['text_content'] = df_book['opening_caption'].shift(1).ffill() != False"
   ]
  },
  {
   "cell_type": "code",
   "execution_count": 181,
   "metadata": {},
   "outputs": [],
   "source": [
    "text_content_arr = np.where(df_book['text_content'] == True)\n",
    "for i in text_content_arr:\n",
    "    df_book['text_part'].iloc[i] = 'text_content'\n",
    "\n",
    "opening_caption_arr = np.where(df_book['opening_caption'] == True)\n",
    "for i in opening_caption_arr:\n",
    "    df_book['text_part'].iloc[i] = 'opening_caption'\n",
    "\n",
    "opening_text_arr = np.where(df_book['opening_text'] == True)\n",
    "for i in opening_text_arr:\n",
    "    df_book['text_part'].iloc[i] = 'opening_text'"
   ]
  },
  {
   "cell_type": "code",
   "execution_count": 182,
   "metadata": {},
   "outputs": [
    {
     "data": {
      "text/html": [
       "<div>\n",
       "<style scoped>\n",
       "    .dataframe tbody tr th:only-of-type {\n",
       "        vertical-align: middle;\n",
       "    }\n",
       "\n",
       "    .dataframe tbody tr th {\n",
       "        vertical-align: top;\n",
       "    }\n",
       "\n",
       "    .dataframe thead th {\n",
       "        text-align: right;\n",
       "    }\n",
       "</style>\n",
       "<table border=\"1\" class=\"dataframe\">\n",
       "  <thead>\n",
       "    <tr style=\"text-align: right;\">\n",
       "      <th></th>\n",
       "      <th>chapter</th>\n",
       "      <th>text_part</th>\n",
       "      <th>content</th>\n",
       "      <th>opening_caption</th>\n",
       "      <th>text_content</th>\n",
       "      <th>opening_text</th>\n",
       "      <th>paragraph</th>\n",
       "    </tr>\n",
       "  </thead>\n",
       "  <tbody>\n",
       "    <tr>\n",
       "      <th>0</th>\n",
       "      <td>2.0</td>\n",
       "      <td>text_content</td>\n",
       "      <td>Muad’Dib’s Imperial reign generated more histo...</td>\n",
       "      <td>False</td>\n",
       "      <td>True</td>\n",
       "      <td>False</td>\n",
       "      <td>1</td>\n",
       "    </tr>\n",
       "    <tr>\n",
       "      <th>1</th>\n",
       "      <td>2.0</td>\n",
       "      <td>text_content</td>\n",
       "      <td>Of course, he contained the ingredients of his...</td>\n",
       "      <td>False</td>\n",
       "      <td>False</td>\n",
       "      <td>False</td>\n",
       "      <td>2</td>\n",
       "    </tr>\n",
       "    <tr>\n",
       "      <th>2</th>\n",
       "      <td>2.0</td>\n",
       "      <td>text_content</td>\n",
       "      <td>Above all else, Muad’Dib was the ‘Kwisatz Hade...</td>\n",
       "      <td>False</td>\n",
       "      <td>False</td>\n",
       "      <td>False</td>\n",
       "      <td>3</td>\n",
       "    </tr>\n",
       "    <tr>\n",
       "      <th>3</th>\n",
       "      <td>2.0</td>\n",
       "      <td>text_content</td>\n",
       "      <td>The Kwisatz Haderach, then, the one who could ...</td>\n",
       "      <td>False</td>\n",
       "      <td>False</td>\n",
       "      <td>False</td>\n",
       "      <td>4</td>\n",
       "    </tr>\n",
       "    <tr>\n",
       "      <th>4</th>\n",
       "      <td>2.0</td>\n",
       "      <td>text_content</td>\n",
       "      <td>Think on the paradox, the failure implicit in ...</td>\n",
       "      <td>False</td>\n",
       "      <td>False</td>\n",
       "      <td>False</td>\n",
       "      <td>5</td>\n",
       "    </tr>\n",
       "  </tbody>\n",
       "</table>\n",
       "</div>"
      ],
      "text/plain": [
       "   chapter     text_part                                            content  \\\n",
       "0      2.0  text_content  Muad’Dib’s Imperial reign generated more histo...   \n",
       "1      2.0  text_content  Of course, he contained the ingredients of his...   \n",
       "2      2.0  text_content  Above all else, Muad’Dib was the ‘Kwisatz Hade...   \n",
       "3      2.0  text_content  The Kwisatz Haderach, then, the one who could ...   \n",
       "4      2.0  text_content  Think on the paradox, the failure implicit in ...   \n",
       "\n",
       "   opening_caption  text_content  opening_text  paragraph  \n",
       "0            False          True         False          1  \n",
       "1            False         False         False          2  \n",
       "2            False         False         False          3  \n",
       "3            False         False         False          4  \n",
       "4            False         False         False          5  "
      ]
     },
     "execution_count": 182,
     "metadata": {},
     "output_type": "execute_result"
    }
   ],
   "source": [
    "df_book['paragraph'] = df_book.groupby(df_book.opening_text.eq(True).cumsum()).cumcount() + 1\n",
    "df_book.head()"
   ]
  },
  {
   "cell_type": "code",
   "execution_count": 183,
   "metadata": {},
   "outputs": [],
   "source": [
    "df_book.to_csv(f'output/D{volume}.csv',\n",
    "               index=False,\n",
    "               columns=['chapter', 'paragraph', 'text_part', 'content'])"
=======
   "execution_count": 13,
   "metadata": {},
   "outputs": [],
   "source": [
    "dfBook[['Book','Chapter','Class','Text']].to_csv('output\\DuneCronicles.csv', index=False, encoding='utf-8')"
>>>>>>> Messiah_Parser
   ]
  }
 ],
 "metadata": {
  "kernelspec": {
   "display_name": "Python 3",
   "language": "python",
   "name": "python3"
  },
  "language_info": {
   "codemirror_mode": {
    "name": "ipython",
    "version": 3
   },
   "file_extension": ".py",
   "mimetype": "text/x-python",
   "name": "python",
   "nbconvert_exporter": "python",
   "pygments_lexer": "ipython3",
   "version": "3.7.3"
  }
 },
 "nbformat": 4,
 "nbformat_minor": 4
}
